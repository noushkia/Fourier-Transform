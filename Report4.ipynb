{
 "cells": [
  {
   "cell_type": "markdown",
   "id": "5db64c17",
   "metadata": {},
   "source": [
    "# Applictaions of Fourier Transform\n",
    "\n",
    "<h2>Kianoush Arshi<br>\n",
    "810198438</h2>"
   ]
  },
  {
   "cell_type": "markdown",
   "id": "e1fc5b3f",
   "metadata": {},
   "source": [
    "## Table of Contents\n",
    "* [Convolution in Frequency Domain](#Convolution-in-Frequency-Domain)\n",
    "* [Narrow band Temporal Filtering](#Narrow-band-Temporal-Filtering)\n",
    "* [Image Filtering 2D](#Image-Filtering-2D)\n",
    "* [Low Pass Filtering](#Low-Pass-Filtering)\n",
    "    * [Part A](#Part-1A)\n",
    "    * [Part B](#Part-1B)\n",
    "* [High Pass Filtering](#High-Pass-Filtering)\n",
    "    * [Part A](#Part-2A)\n",
    "    * [Part B](#Part-2B)\n"
   ]
  },
  {
   "cell_type": "markdown",
   "id": "1c10039f",
   "metadata": {},
   "source": [
    "# Convolution in Frequency Domain"
   ]
  },
  {
   "cell_type": "code",
   "execution_count": 1,
   "id": "05a77426",
   "metadata": {
    "scrolled": true
   },
   "outputs": [
    {
     "ename": "NameError",
     "evalue": "name 'plot_transform' is not defined",
     "output_type": "error",
     "traceback": [
      "\u001b[1;31m---------------------------------------------------------------------------\u001b[0m",
      "\u001b[1;31mNameError\u001b[0m                                 Traceback (most recent call last)",
      "\u001b[1;32m~\\AppData\\Local\\Temp/ipykernel_24700/2963815300.py\u001b[0m in \u001b[0;36m<module>\u001b[1;34m\u001b[0m\n\u001b[1;32m----> 1\u001b[1;33m \u001b[0mplot_transform\u001b[0m\u001b[1;33m(\u001b[0m\u001b[0mtime_range\u001b[0m\u001b[1;33m,\u001b[0m \u001b[0m_signal\u001b[0m\u001b[1;33m,\u001b[0m \u001b[0mtitle\u001b[0m\u001b[1;33m=\u001b[0m\u001b[1;34m\"Signal\"\u001b[0m\u001b[1;33m,\u001b[0m \u001b[0mxlabel\u001b[0m\u001b[1;33m=\u001b[0m\u001b[1;34m\"time\"\u001b[0m\u001b[1;33m,\u001b[0m \u001b[0mylabel\u001b[0m\u001b[1;33m=\u001b[0m\u001b[1;34m\"\"\u001b[0m\u001b[1;33m)\u001b[0m\u001b[1;33m\u001b[0m\u001b[1;33m\u001b[0m\u001b[0m\n\u001b[0m\u001b[0;32m      2\u001b[0m \u001b[1;33m\u001b[0m\u001b[0m\n\u001b[0;32m      3\u001b[0m \u001b[0mplot_transform\u001b[0m\u001b[1;33m(\u001b[0m\u001b[0mtime_range\u001b[0m\u001b[1;33m,\u001b[0m \u001b[0m_kernel\u001b[0m\u001b[1;33m,\u001b[0m \u001b[0mtitle\u001b[0m\u001b[1;33m=\u001b[0m\u001b[1;34m\"Kernel\"\u001b[0m\u001b[1;33m,\u001b[0m \u001b[0mxlabel\u001b[0m\u001b[1;33m=\u001b[0m\u001b[1;34m\"time\"\u001b[0m\u001b[1;33m,\u001b[0m \u001b[0mylabel\u001b[0m\u001b[1;33m=\u001b[0m\u001b[1;34m\"\"\u001b[0m\u001b[1;33m)\u001b[0m\u001b[1;33m\u001b[0m\u001b[1;33m\u001b[0m\u001b[0m\n",
      "\u001b[1;31mNameError\u001b[0m: name 'plot_transform' is not defined"
     ]
    }
   ],
   "source": [
    "plot_transform(time_range, _signal, title=\"Signal\", xlabel=\"time\", ylabel=\"\")\n",
    "\n",
    "plot_transform(time_range, _kernel, title=\"Kernel\", xlabel=\"time\", ylabel=\"\")"
   ]
  },
  {
   "cell_type": "code",
   "execution_count": null,
   "id": "53752ccc",
   "metadata": {},
   "outputs": [],
   "source": [
    "time_range = np.linspace(0, 50, 999)\n",
    "\n",
    "_convolution = np.convolve(_signal, _kernel, mode=\"full\")\n",
    "plot_transform(time_range, _convolution, title=\"Convolution\", xlabel=\"time\", ylabel=\"\")"
   ]
  },
  {
   "cell_type": "code",
   "execution_count": null,
   "id": "2c562646",
   "metadata": {},
   "outputs": [],
   "source": [
    "fft_signal = fft(_signal)\n",
    "fft_kernel = fft(_kernel)\n",
    "fft_convolution = fft_signal*fft_kernel\n",
    "ifft_convolution = np.real(ifft(fft_convolution))\n",
    "\n",
    "plot_transform(time_range, ifft_convolution, title=\"Recovered Signal\", xlabel=\"time\", ylabel=\"\")"
   ]
  },
  {
   "cell_type": "markdown",
   "id": "3f095dcb",
   "metadata": {},
   "source": [
    "# Narrow band Temporal Filtering"
   ]
  },
  {
   "cell_type": "code",
   "execution_count": null,
   "id": "b6da0a14",
   "metadata": {
    "scrolled": true
   },
   "outputs": [],
   "source": [
    "plot_transform(timevec, braindata, title=\"Time domain\", xlabel=\"Time (sec.)\", ylabel=\"Voltage ($\\\\mu V$)\", _figsize=(20, 6))"
   ]
  },
  {
   "cell_type": "code",
   "execution_count": null,
   "id": "1a390f62",
   "metadata": {
    "scrolled": true
   },
   "outputs": [],
   "source": [
    "sample_rate = matdata['srate'][0]\n",
    "braindata_fourier = fft(braindata)/len(timevec)\n",
    "power_spectrum = 2*np.abs(braindata_fourier)**2\n",
    "freq_range = np.linspace(0, sample_rate, len(timevec))\n",
    "\n",
    "plot_transform(freq_range,power_spectrum[0:len(freq_range)], title=\"Spectrum\", xlabel=\"Frequency (Hz)\", ylabel=\"Voltage (\\muV)\", _figsize=(20, 6), _ylim=True)"
   ]
  },
  {
   "cell_type": "code",
   "execution_count": null,
   "id": "aa6693cb",
   "metadata": {},
   "outputs": [],
   "source": [
    "filtered_1 = 2*np.real(ifft(np.multiply(braindata_fourier,gaussian_filter_1) ))\n",
    "filtered_2 = 2*np.real(ifft(np.multiply(braindata_fourier,gaussian_filter_2) ))\n",
    "\n",
    "plt.plot(timevec,filtered_1, c='r', label='%g Hz' %freq_1)\n",
    "plt.ylim([-0.015, 0.015])\n",
    "plt.xlabel('Time (sec.)')\n",
    "plt.ylabel('Voltage (\\muV)')\n",
    "plt.title('Time domain')\n",
    "\n",
    "plt.legend()\n",
    "plt.show()"
   ]
  },
  {
   "cell_type": "code",
   "execution_count": null,
   "id": "3c1913d9",
   "metadata": {
    "scrolled": true
   },
   "outputs": [],
   "source": [
    "plt.plot(timevec,filtered_2, label='%g Hz' %freq_2)\n",
    "\n",
    "plt.xlabel('Time (sec.)')\n",
    "plt.ylabel('Voltage (\\muV)')\n",
    "plt.title('Time domain')\n",
    "\n",
    "plt.legend()\n",
    "plt.show()"
   ]
  },
  {
   "cell_type": "markdown",
   "id": "8ed76c00",
   "metadata": {},
   "source": [
    "Based on the shift filters applied to our frequency, by increasing the shift, the voltage range will decrease and the signal will become less unpredictable and more linear. The peaks in our plot will be closer to 0 with greater shifting"
   ]
  },
  {
   "cell_type": "markdown",
   "id": "81addfb1",
   "metadata": {},
   "source": [
    "# Image Filtering 2D"
   ]
  },
  {
   "cell_type": "code",
   "execution_count": null,
   "id": "e7da8e3f",
   "metadata": {},
   "outputs": [],
   "source": [
    "img = np.asarray(Image.open(\"Lenna.png\"), dtype=int)"
   ]
  },
  {
   "cell_type": "markdown",
   "id": "46184d16",
   "metadata": {},
   "source": [
    "# Low Pass Filtering"
   ]
  },
  {
   "cell_type": "markdown",
   "id": "5039594a",
   "metadata": {},
   "source": [
    "# Part 1A"
   ]
  },
  {
   "cell_type": "code",
   "execution_count": null,
   "id": "fb030afd",
   "metadata": {
    "scrolled": true
   },
   "outputs": [],
   "source": [
    "bw_img = img.mean(axis=2, keepdims=False)\n",
    "print(\"New matrix shape:\", bw_img.shape)\n",
    "plt.imshow(bw_img, cmap='gray')"
   ]
  },
  {
   "cell_type": "markdown",
   "id": "1d805b25",
   "metadata": {},
   "source": [
    "# Part 1B"
   ]
  },
  {
   "cell_type": "markdown",
   "id": "a695079b",
   "metadata": {},
   "source": [
    "<b>fftshift(X)</b> rearranges the outputs of fft, fft2, and fftn by moving the zero-frequency component to the center of the array.<br> It is useful for visualizing a Fourier transform with the zero-frequency component in the middle of the spectrum.\n",
    "\n",
    "For vectors, fftshift(X) swaps the left and right halves of X. For matrices, fftshift(X) swaps the first quadrant with the third and the second quadrant with the fourth.\n",
    "\n",
    "\n",
    "<b>fft2(X)</b> returns the two-dimensional Fourier transform of a matrix using a fast Fourier transform algorithm, which is equivalent to computing fft(fft(X).').'. If X is a multidimensional array, then fft2 takes the 2-D transform of each dimension higher than 2. The output Y is the same size as X."
   ]
  },
  {
   "cell_type": "code",
   "execution_count": null,
   "id": "f8d793c6",
   "metadata": {
    "scrolled": false
   },
   "outputs": [],
   "source": [
    "ffs = ifft2(ifftshift(bw_shifted))\n",
    "log_spectrum = np.square(np.abs(ffs))\n",
    "\n",
    "plt.imshow(log_spectrum, cmap = 'gray')"
   ]
  },
  {
   "cell_type": "markdown",
   "id": "79e76028",
   "metadata": {},
   "source": [
    "Now, let's blur it!"
   ]
  },
  {
   "cell_type": "code",
   "execution_count": null,
   "id": "e8ca9d4a",
   "metadata": {
    "scrolled": false
   },
   "outputs": [],
   "source": [
    "plt.imshow(gaus2d, cmap='gray')\n",
    "plt.show()"
   ]
  },
  {
   "cell_type": "code",
   "execution_count": null,
   "id": "14a3e451",
   "metadata": {},
   "outputs": [],
   "source": [
    "blur = bw_shifted * gaus2d\n",
    "\n",
    "log_spectrum_blur = np.log(np.abs(blur))\n",
    "\n",
    "plt.imshow(log_spectrum_blur, cmap='gray')\n",
    "plt.show()"
   ]
  },
  {
   "cell_type": "code",
   "execution_count": null,
   "id": "46234f47",
   "metadata": {},
   "outputs": [],
   "source": [
    "ffs = ifft2(ifftshift(blur))\n",
    "power_spectrum = np.square(np.abs(ffs))\n",
    "\n",
    "plt.imshow(power_spectrum, cmap = 'gray')"
   ]
  },
  {
   "cell_type": "markdown",
   "id": "c150068a",
   "metadata": {},
   "source": [
    "# High Pass Filtering"
   ]
  },
  {
   "cell_type": "markdown",
   "id": "d5ac5bc9",
   "metadata": {},
   "source": [
    "# Part 2A\n",
    "\n",
    "<a href=\"https://biomedpharmajournal.org/vol7no2/image-sharpening-by-gaussian-and-butterworth-high-pass-filter/\">Reference</a>"
   ]
  },
  {
   "cell_type": "code",
   "execution_count": null,
   "id": "d59c4412",
   "metadata": {},
   "outputs": [],
   "source": [
    "ffs = ifft2(ifftshift(sharpen))\n",
    "power_spectrum = np.square(np.abs(ffs))\n",
    "\n",
    "plt.imshow(power_spectrum, cmap = 'gray')"
   ]
  },
  {
   "cell_type": "markdown",
   "id": "da407917",
   "metadata": {},
   "source": [
    "# Part 2B"
   ]
  },
  {
   "cell_type": "markdown",
   "id": "b7a53381",
   "metadata": {},
   "source": [
    "This filter sharpens the edges of the image.<br>\n",
    "The Gaussian low pass filter attenuates frequency components that are further away from the centre (W/2, H/2).<br>\n",
    "The Gaussian high pass filter attenuates frequency components that are near to the image center (W/2, H/2).<br>\n",
    "In the low pass filter, the edges are softened and as a result the image is blurred. The high pass filter is exactly the opposite,  it increases sharpness by decreasing the density of frequency components that are near to the image center and as a result sharpens the edges."
   ]
  }
 ],
 "metadata": {
  "kernelspec": {
   "display_name": "Python 3 (ipykernel)",
   "language": "python",
   "name": "python3"
  },
  "language_info": {
   "codemirror_mode": {
    "name": "ipython",
    "version": 3
   },
   "file_extension": ".py",
   "mimetype": "text/x-python",
   "name": "python",
   "nbconvert_exporter": "python",
   "pygments_lexer": "ipython3",
   "version": "3.9.7"
  }
 },
 "nbformat": 4,
 "nbformat_minor": 5
}
